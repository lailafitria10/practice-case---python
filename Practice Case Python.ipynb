{
 "cells": [
  {
   "cell_type": "markdown",
   "metadata": {},
   "source": [
    "### Practice Case Python Data Fellowship Batch 6\n",
    "LAILA FITRIA"
   ]
  },
  {
   "cell_type": "markdown",
   "metadata": {},
   "source": [
    "##### Question 1 - Using Dataset A above, The table given to you cannot be updated, so if there is a change in the status of a transaction the new data is inserted instead of updating the status of the transaction, it will insert a new row with the same id and insert time based on the time when the row is inserted. You are assigned to create a view that only shows the most updated transactions for each id, so there is no duplicate id inside the view."
   ]
  },
  {
   "cell_type": "code",
   "execution_count": 2,
   "metadata": {},
   "outputs": [],
   "source": [
    "# library\n",
    "import pandas as pd"
   ]
  },
  {
   "cell_type": "code",
   "execution_count": 3,
   "metadata": {},
   "outputs": [],
   "source": [
    "# Prepare empty dataframe\n",
    "df = pd.DataFrame(columns = ['id','insert_time','tx_amount','tx_type','status'])"
   ]
  },
  {
   "cell_type": "code",
   "execution_count": 4,
   "metadata": {},
   "outputs": [],
   "source": [
    "# Function to input data\n",
    "def input_data():\n",
    "    # initialization\n",
    "    status = ''\n",
    "    id_count = 0\n",
    "    insert_time_count = 0\n",
    "    \n",
    "    # input instruction\n",
    "    id_num = int(input('Input id : '))\n",
    "    insert_time = input('Input date (dd/mm/yyyy) : ')\n",
    "    tx_amount = int(input('Input transaction amount : '))\n",
    "    tx_type = input('Input transaction type (Buy/Sell) : ')\n",
    "    \n",
    "    # count id & count insert time\n",
    "    for i in range(len(df)):\n",
    "        if((df['id'][i] == id_num) & (df['insert_time'][i] == insert_time)):\n",
    "            id_count += 1\n",
    "            insert_time_count += 1\n",
    "        elif((df['id'][i] == id_num) & (df['insert_time'][i] != insert_time)):\n",
    "            id_count += 1\n",
    "    \n",
    "    # rules for status\n",
    "    if((id_count % 2 == 0) & (insert_time_count % 2 == 0)):\n",
    "        if(df.empty):\n",
    "            status = 'Open'\n",
    "        status = 'Open'\n",
    "    if((id_count % 2 == 1) & (insert_time_count % 2 == 0)):\n",
    "        status = 'Open'\n",
    "    if((id_count % 2 == 1) & (insert_time_count % 2 == 1)):\n",
    "        status = 'Close'\n",
    "    if((id_count % 2 == 0) & (insert_time_count % 2 == 1)):\n",
    "        status = 'Close'\n",
    "\n",
    "    # preparing dataframe\n",
    "    df_input = []\n",
    "    df_input.append(id_num)\n",
    "    df_input.append(insert_time)\n",
    "    df_input.append(tx_amount)\n",
    "    df_input.append(tx_type)\n",
    "    df_input.append(status)\n",
    "    \n",
    "    return df_input"
   ]
  },
  {
   "cell_type": "code",
   "execution_count": 35,
   "metadata": {},
   "outputs": [
    {
     "name": "stdout",
     "output_type": "stream",
     "text": [
      "Input id : 2\n",
      "Input date (dd/mm/yyyy) : 28/06/2021\n",
      "Input transaction amount : 3300\n",
      "Input transaction type (Buy/Sell) : Sell\n"
     ]
    }
   ],
   "source": [
    "# input here\n",
    "df_to_insert = input_data()"
   ]
  },
  {
   "cell_type": "code",
   "execution_count": 36,
   "metadata": {},
   "outputs": [],
   "source": [
    "# insert new data\n",
    "df.loc[len(df)] = df_to_insert"
   ]
  },
  {
   "cell_type": "code",
   "execution_count": 37,
   "metadata": {},
   "outputs": [
    {
     "data": {
      "text/html": [
       "<div>\n",
       "<style scoped>\n",
       "    .dataframe tbody tr th:only-of-type {\n",
       "        vertical-align: middle;\n",
       "    }\n",
       "\n",
       "    .dataframe tbody tr th {\n",
       "        vertical-align: top;\n",
       "    }\n",
       "\n",
       "    .dataframe thead th {\n",
       "        text-align: right;\n",
       "    }\n",
       "</style>\n",
       "<table border=\"1\" class=\"dataframe\">\n",
       "  <thead>\n",
       "    <tr style=\"text-align: right;\">\n",
       "      <th></th>\n",
       "      <th>id</th>\n",
       "      <th>insert_time</th>\n",
       "      <th>tx_amount</th>\n",
       "      <th>tx_type</th>\n",
       "      <th>status</th>\n",
       "    </tr>\n",
       "  </thead>\n",
       "  <tbody>\n",
       "    <tr>\n",
       "      <th>0</th>\n",
       "      <td>1</td>\n",
       "      <td>26/06/2021</td>\n",
       "      <td>1000</td>\n",
       "      <td>Buy</td>\n",
       "      <td>Open</td>\n",
       "    </tr>\n",
       "    <tr>\n",
       "      <th>1</th>\n",
       "      <td>1</td>\n",
       "      <td>26/06/2021</td>\n",
       "      <td>1002</td>\n",
       "      <td>Sell</td>\n",
       "      <td>Close</td>\n",
       "    </tr>\n",
       "    <tr>\n",
       "      <th>2</th>\n",
       "      <td>1</td>\n",
       "      <td>27/06/2021</td>\n",
       "      <td>2000</td>\n",
       "      <td>Buy</td>\n",
       "      <td>Open</td>\n",
       "    </tr>\n",
       "    <tr>\n",
       "      <th>3</th>\n",
       "      <td>1</td>\n",
       "      <td>27/06/2021</td>\n",
       "      <td>2500</td>\n",
       "      <td>Buy</td>\n",
       "      <td>Close</td>\n",
       "    </tr>\n",
       "    <tr>\n",
       "      <th>4</th>\n",
       "      <td>1</td>\n",
       "      <td>27/06/2021</td>\n",
       "      <td>3000</td>\n",
       "      <td>Sell</td>\n",
       "      <td>Open</td>\n",
       "    </tr>\n",
       "    <tr>\n",
       "      <th>5</th>\n",
       "      <td>2</td>\n",
       "      <td>27/06/2021</td>\n",
       "      <td>2200</td>\n",
       "      <td>Buy</td>\n",
       "      <td>Open</td>\n",
       "    </tr>\n",
       "    <tr>\n",
       "      <th>6</th>\n",
       "      <td>2</td>\n",
       "      <td>28/06/2021</td>\n",
       "      <td>3300</td>\n",
       "      <td>Sell</td>\n",
       "      <td>Open</td>\n",
       "    </tr>\n",
       "  </tbody>\n",
       "</table>\n",
       "</div>"
      ],
      "text/plain": [
       "  id insert_time tx_amount tx_type status\n",
       "0  1  26/06/2021      1000     Buy   Open\n",
       "1  1  26/06/2021      1002    Sell  Close\n",
       "2  1  27/06/2021      2000     Buy   Open\n",
       "3  1  27/06/2021      2500     Buy  Close\n",
       "4  1  27/06/2021      3000    Sell   Open\n",
       "5  2  27/06/2021      2200     Buy   Open\n",
       "6  2  28/06/2021      3300    Sell   Open"
      ]
     },
     "execution_count": 37,
     "metadata": {},
     "output_type": "execute_result"
    }
   ],
   "source": [
    "# current data\n",
    "df"
   ]
  },
  {
   "cell_type": "code",
   "execution_count": 38,
   "metadata": {},
   "outputs": [],
   "source": [
    "# all record\n",
    "df.to_csv('all_record.csv', index=False)"
   ]
  },
  {
   "cell_type": "code",
   "execution_count": 41,
   "metadata": {},
   "outputs": [
    {
     "data": {
      "text/html": [
       "<div>\n",
       "<style scoped>\n",
       "    .dataframe tbody tr th:only-of-type {\n",
       "        vertical-align: middle;\n",
       "    }\n",
       "\n",
       "    .dataframe tbody tr th {\n",
       "        vertical-align: top;\n",
       "    }\n",
       "\n",
       "    .dataframe thead th {\n",
       "        text-align: right;\n",
       "    }\n",
       "</style>\n",
       "<table border=\"1\" class=\"dataframe\">\n",
       "  <thead>\n",
       "    <tr style=\"text-align: right;\">\n",
       "      <th></th>\n",
       "      <th>id</th>\n",
       "      <th>insert_time</th>\n",
       "      <th>tx_amount</th>\n",
       "      <th>tx_type</th>\n",
       "      <th>status</th>\n",
       "    </tr>\n",
       "  </thead>\n",
       "  <tbody>\n",
       "    <tr>\n",
       "      <th>0</th>\n",
       "      <td>1</td>\n",
       "      <td>27/06/2021</td>\n",
       "      <td>3000</td>\n",
       "      <td>Sell</td>\n",
       "      <td>Open</td>\n",
       "    </tr>\n",
       "    <tr>\n",
       "      <th>1</th>\n",
       "      <td>2</td>\n",
       "      <td>28/06/2021</td>\n",
       "      <td>3300</td>\n",
       "      <td>Sell</td>\n",
       "      <td>Open</td>\n",
       "    </tr>\n",
       "  </tbody>\n",
       "</table>\n",
       "</div>"
      ],
      "text/plain": [
       "  id insert_time tx_amount tx_type status\n",
       "0  1  27/06/2021      3000    Sell   Open\n",
       "1  2  28/06/2021      3300    Sell   Open"
      ]
     },
     "execution_count": 41,
     "metadata": {},
     "output_type": "execute_result"
    }
   ],
   "source": [
    "# get the last updated transaction per id\n",
    "g = df.groupby('id')\n",
    "\n",
    "g = (pd.concat([g.tail(1)])\n",
    "   .drop_duplicates()\n",
    "   .sort_values('id')\n",
    "   .reset_index(drop=True))\n",
    "\n",
    "g"
   ]
  },
  {
   "cell_type": "code",
   "execution_count": 42,
   "metadata": {},
   "outputs": [],
   "source": [
    "# save to csv file\n",
    "g.to_csv('most_updated_transaction_per_id.csv', index=False)"
   ]
  },
  {
   "cell_type": "markdown",
   "metadata": {},
   "source": [
    "##### Question 2 - Using Dataset B above, Write a query to get the rolling sum total of sales using the window function!"
   ]
  },
  {
   "cell_type": "code",
   "execution_count": 2,
   "metadata": {},
   "outputs": [
    {
     "data": {
      "text/plain": [
       "date\n",
       "2021-01-01       NaN\n",
       "2021-02-01     134.0\n",
       "2021-02-01     157.0\n",
       "2021-02-01     257.0\n",
       "2021-03-01     279.0\n",
       "2021-03-01     169.0\n",
       "2021-04-01     565.0\n",
       "2021-04-01    1177.0\n",
       "2021-05-01     958.0\n",
       "2021-06-01     564.0\n",
       "2021-07-01     264.0\n",
       "2021-08-01      68.0\n",
       "Name: sales, dtype: float64"
      ]
     },
     "execution_count": 2,
     "metadata": {},
     "output_type": "execute_result"
    }
   ],
   "source": [
    "# library\n",
    "import io\n",
    "import requests\n",
    "\n",
    "# get data from github\n",
    "url = \"https://raw.githubusercontent.com/lailafitria10/practice-case---python/main/dataset_b.csv\"\n",
    "dataset = requests.get(url).content\n",
    "\n",
    "# define rolling sum function\n",
    "def rolling_sum(dataset, window=2): #by default window=2 \n",
    "    df = pd.read_csv(io.StringIO(dataset.decode('utf-8')))\n",
    "    df['date'] = df['date'].astype('datetime64[ns]')\n",
    "    df = df.set_index('date')\n",
    "    return df.sales.rolling(window=window).sum()\n",
    "\n",
    "# call the function\n",
    "rolling_sum(dataset, window=2)"
   ]
  },
  {
   "cell_type": "markdown",
   "metadata": {},
   "source": [
    "##### No.3 \tUsing Dataset C above, write a code with following requirements:"
   ]
  },
  {
   "cell_type": "code",
   "execution_count": 3,
   "metadata": {},
   "outputs": [],
   "source": [
    "# library\n",
    "import urllib\n",
    "import json\n",
    "\n",
    "# get data from github\n",
    "link = \"https://raw.githubusercontent.com/lailafitria10/practice-case---python/main/dataset_c.txt\"\n",
    "file_json = urllib.request.urlopen(link)\n",
    "data = json.load(file_json)\n",
    "file_json.close()"
   ]
  },
  {
   "cell_type": "markdown",
   "metadata": {},
   "source": [
    "##### 3.a  Your task is to create an automation (python script preferable) that convert JSON file above into three CSV files below:\n",
    "Csv 1"
   ]
  },
  {
   "cell_type": "code",
   "execution_count": 4,
   "metadata": {},
   "outputs": [
    {
     "name": "stdout",
     "output_type": "stream",
     "text": [
      "user_id : [1, 1, 1, 2, 2, 2]\n",
      "txs_id : [1, 3, 5, 2, 4, 6]\n",
      "\n",
      "data frame :\n",
      "   user_id  txs_id\n",
      "0        1       1\n",
      "1        1       3\n",
      "2        1       5\n",
      "3        2       2\n",
      "4        2       4\n",
      "5        2       6\n"
     ]
    }
   ],
   "source": [
    "# define function\n",
    "def get_id(data):\n",
    "    user_id = []\n",
    "    txs_id = []\n",
    "    for data in data:\n",
    "        for txs in data[\"txs\"]:\n",
    "            user_id.append(data[\"user\"][\"id\"])\n",
    "            txs_id.append(txs[\"id\"])\n",
    "    print('user_id :',user_id)\n",
    "    print('txs_id :',txs_id)\n",
    "    df = pd.DataFrame({'user_id':user_id, 'txs_id':txs_id})\n",
    "    print('\\ndata frame :')\n",
    "    print(df)\n",
    "    df.to_csv('answer_3a.csv', index=False)\n",
    "\n",
    "# call the function \n",
    "get_id(data)"
   ]
  },
  {
   "cell_type": "markdown",
   "metadata": {},
   "source": [
    "#### CSV 2"
   ]
  },
  {
   "cell_type": "code",
   "execution_count": 5,
   "metadata": {},
   "outputs": [
    {
     "name": "stdout",
     "output_type": "stream",
     "text": [
      "\n",
      "Result :\n",
      "   id  name             email\n",
      "0   1  agus  agus@example.com\n",
      "1   2  asep  asep@example.com\n"
     ]
    }
   ],
   "source": [
    "# define function\n",
    "def get_name_id(data):\n",
    "    name_email = []\n",
    "    for data in data:\n",
    "        name_email.append(data[\"user\"])\n",
    "    df = pd.DataFrame(name_email)\n",
    "    df.to_csv(\"answer_3b.csv\", index=False)\n",
    "    print('\\nResult :')\n",
    "    print(df)\n",
    "\n",
    "# call the function \n",
    "get_name_id(data)"
   ]
  },
  {
   "cell_type": "markdown",
   "metadata": {},
   "source": [
    "#### CSV 3"
   ]
  },
  {
   "cell_type": "code",
   "execution_count": 6,
   "metadata": {},
   "outputs": [
    {
     "name": "stdout",
     "output_type": "stream",
     "text": [
      "\n",
      "Result :\n",
      "   id     tx_date  tx_amount tx_type\n",
      "0   1  2020-01-01         10     buy\n",
      "1   3  2020-02-01         10     buy\n",
      "2   5  2020-03-01         20    sell\n",
      "3   2  2020-01-01         10    sell\n",
      "4   4  2020-02-01         10    sell\n",
      "5   6  2020-03-01         20     buy\n"
     ]
    }
   ],
   "source": [
    "# define function\n",
    "def get_trx_data(data):\n",
    "    df_trx = []\n",
    "    for data in data:\n",
    "        for trx in data[\"txs\"]:\n",
    "            df_trx.append(trx)\n",
    "    df = pd.DataFrame(df_trx)\n",
    "    df.to_csv(\"answer_3c.csv\", index=False)\n",
    "    print('\\nResult :')\n",
    "    print(df)\n",
    "\n",
    "# call the function \n",
    "get_trx_data(data)"
   ]
  }
 ],
 "metadata": {
  "kernelspec": {
   "display_name": "Python 3",
   "language": "python",
   "name": "python3"
  },
  "language_info": {
   "codemirror_mode": {
    "name": "ipython",
    "version": 3
   },
   "file_extension": ".py",
   "mimetype": "text/x-python",
   "name": "python",
   "nbconvert_exporter": "python",
   "pygments_lexer": "ipython3",
   "version": "3.7.0"
  }
 },
 "nbformat": 4,
 "nbformat_minor": 2
}
